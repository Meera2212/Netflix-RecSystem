{
 "cells": [
  {
   "cell_type": "markdown",
   "metadata": {},
   "source": [
    "#                Netflix Recommendation System Using Redis \n"
   ]
  },
  {
   "cell_type": "markdown",
   "metadata": {},
   "source": [
    "## INSTALLING REDIS"
   ]
  },
  {
   "cell_type": "code",
   "execution_count": 35,
   "metadata": {},
   "outputs": [
    {
     "name": "stdout",
     "output_type": "stream",
     "text": [
      "Requirement already satisfied: redis in c:\\programdata\\anaconda3\\lib\\site-packages (3.4.1)\n",
      "Note: you may need to restart the kernel to use updated packages.\n"
     ]
    }
   ],
   "source": [
    "pip install redis"
   ]
  },
  {
   "cell_type": "code",
   "execution_count": 36,
   "metadata": {},
   "outputs": [],
   "source": [
    "#Connecting to Redis on port 6379"
   ]
  },
  {
   "cell_type": "code",
   "execution_count": 37,
   "metadata": {},
   "outputs": [
    {
     "name": "stdout",
     "output_type": "stream",
     "text": [
      "Connected: Redis<ConnectionPool<Connection<host=localhost,port=6379,db=0>>>\n",
      "Flushed: True\n"
     ]
    }
   ],
   "source": [
    "import json\n",
    "import redis\n",
    "\n",
    "# Standard Redis connections\n",
    "r = redis.StrictRedis() \n",
    "\n",
    "print(\"Connected: {0}\".format(r))\n",
    "print(\"Flushed: {0}\".format(r.flushall()))"
   ]
  },
  {
   "cell_type": "code",
   "execution_count": 38,
   "metadata": {},
   "outputs": [
    {
     "name": "stdout",
     "output_type": "stream",
     "text": [
      "Database cleaned.\n"
     ]
    }
   ],
   "source": [
    "# Clean the database\n",
    "r.flushall()\n",
    "print(\"Database cleaned.\")"
   ]
  },
  {
   "cell_type": "code",
   "execution_count": 39,
   "metadata": {},
   "outputs": [],
   "source": [
    "#Adding data to the Redis database"
   ]
  },
  {
   "cell_type": "code",
   "execution_count": 40,
   "metadata": {},
   "outputs": [
    {
     "data": {
      "text/plain": [
       "3"
      ]
     },
     "execution_count": 40,
     "metadata": {},
     "output_type": "execute_result"
    }
   ],
   "source": [
    "# Meera likes:\n",
    "r.sadd('user:Meera:catg', 'SitComs','Comedies', 'Horror', 'Anime')\n",
    "\n",
    "# Here the items per category\n",
    "\n",
    "r.sadd('ctg:Comedies:items','Murder Mystery', 'PeeWees Big Holiday')\n",
    "r.sadd('ctg:SitComs:items', 'Friends', 'Big Bang Theory', 'How I Met your Mother')\n",
    "r.sadd('ctg:Horror:items', 'Hush', 'Dont breathe','Anabelle Comes Home')\n",
    "\n",
    "r.sadd('ctg:Anime:items', 'How to train your dragon', 'Spiderman into the spiderverse', 'Ice Age')\n",
    "r.sadd('ctg:Action:items', 'Avengers Infinity War', 'Spiderman Homecoming', 'Land of the Lords')\n",
    "\n",
    "r.sadd('ctg:Children:items','Finding Nemo', 'Finding Dory')\n",
    "r.sadd('ctg:Musical:items', 'A Star is Born', 'Someone great', 'Hannah Montana')\n",
    "r.sadd('ctg:Science Fiction:items', 'Gravity', 'Traitor','Moon','Kill Command')\n",
    "\n",
    "r.sadd('ctg:RomCom:items', 'To all the boys Ive Loved Before', 'Always Be My Maybe', 'Tootsie')\n",
    "r.sadd('ctg:Action:items', 'Avengers Infinity War', 'Spiderman Homecoming', 'Land of the Lords')\n",
    "\n",
    "\n",
    "r.sadd('ctg:Adventure:items', 'The Platform', 'In the Tall Grass', 'Mirage')\n",
    "r.sadd('ctg:Documentary:items', 'Rocco', 'Black Hole', 'Hitler','The Secret','Tiff')\n",
    "\n",
    "\n",
    "r.sadd('ctg:Biography:items', 'Fear of 13', 'Tabloid', 'Holy Hell')\n",
    "r.sadd('ctg:War:items', 'Avengers Infinity War', 'Sand Castle', 'War Machine')\n",
    "\n",
    "\n",
    "r.sadd('ctg:Crime:items', 'Oceans Thirteen', 'Sherlock Holmes', 'Bright','Snatch','Revenge')\n",
    "r.sadd('ctg:Sports:items', 'Avengers Infinity War', 'Spiderman Homecoming', 'Land of the Lords')\n",
    "\n",
    "\n",
    "r.sadd('ctg:Action-Comedy:items', 'How it ends', 'Extinction', 'Sniper')\n",
    "r.sadd('ctg:Family:items', 'Bahubali', 'A dogs way home', 'Secret Life of Pets')\n",
    "\n",
    "\n",
    "r.sadd('ctg:Tamil:items', 'Bahubali', 'Mersal', 'Kannum Kannum Kollayadithal')\n",
    "r.sadd('ctg:Hindi:items', 'Ungli', 'Dear Zindagi', 'Sanju','Dangal')\n",
    "\n",
    "r.sadd('ctg:Malayam:items', 'Uyare', 'Grandmaster', 'Theeram','Pareeth Pandari')\n",
    "r.sadd('ctg:Marathi:items', '15 August', 'Bucket List', 'Sairat')\n",
    "\n",
    "r.sadd('ctg:Korean:items', 'To all the boys Ive Loved Before', 'Always Be My Maybe', 'Tootsie')\n",
    "r.sadd('ctg:Disney:items', 'The Good Dinosaur', 'Narnia', 'Monsters University')\n",
    "\n",
    "r.sadd('ctg:Award-Winning:items', 'Andhadhun', 'Rustom', 'The Departed')\n",
    "r.sadd('ctg:Stand-Up Comedy:items', 'Ladies Up', 'Vir Das', 'The Comedians of the World')\n"
   ]
  },
  {
   "cell_type": "markdown",
   "metadata": {},
   "source": [
    "# Content Based Filtering"
   ]
  },
  {
   "cell_type": "code",
   "execution_count": 41,
   "metadata": {},
   "outputs": [],
   "source": [
    "#A Content-based recommendation system tries to recommend items to users based on their profile.\n",
    "#The user's profile revolves around that user's preferences and tastes. "
   ]
  },
  {
   "cell_type": "code",
   "execution_count": 42,
   "metadata": {},
   "outputs": [
    {
     "name": "stdout",
     "output_type": "stream",
     "text": [
      "Meera could be also interested in: {b'How to train your dragon', b'PeeWees Big Holiday', b'Spiderman into the spiderverse', b'Hush', b'Ice Age', b'Friends', b'Big Bang Theory', b'Anabelle Comes Home', b'Dont breathe', b'Murder Mystery', b'How I Met your Mother'}\n"
     ]
    }
   ],
   "source": [
    "# The following items could be interesting for Meera\n",
    "\n",
    "categories = r.smembers('user:Meera:catg')\n",
    "\n",
    "## Helper to prepare key list\n",
    "keys = []\n",
    "for ctg in categories:\n",
    "    keys.append(\"ctg:\" + ctg.decode('UTF8')+ \":items\")\n",
    "   \n",
    "    \n",
    "result = r.sunion(keys)\n",
    "print(\"Meera could be also interested in: {0}\".format(result))"
   ]
  },
  {
   "cell_type": "code",
   "execution_count": 43,
   "metadata": {},
   "outputs": [
    {
     "data": {
      "text/plain": [
       "4"
      ]
     },
     "execution_count": 43,
     "metadata": {},
     "output_type": "execute_result"
    }
   ],
   "source": [
    "\n",
    "## Meera likes \n",
    "r.sadd('usr:Meera:items','Spiderman', 'Friends','Big Bang Theory','Avengers','Ungli','Hush','Gravity')\n",
    "\n",
    "## Sruthi likes \n",
    "r.sadd('usr:Sruthi:items', 'Sherlock', 'Avengers','Harry Potter','To all the boys Ive loved before')\n",
    "\n",
    "## Kamal likes \n",
    "r.sadd('usr:Kamal:items', 'Murder Mystery', 'Avengers','Ice Age','To all the boys Ive loved before')\n",
    "\n",
    "## Tony likes \n",
    "r.sadd('usr:Tony:items', 'Sherlock', 'Spiderman','Harry Potter','Hush')\n",
    "\n",
    "## Anandhi likes \n",
    "r.sadd('usr:Anandhi:items', 'A Star is Born', 'Hannah Montana','Land of the Lords','Tootsie')\n",
    "\n",
    "## Rajini likes \n",
    "r.sadd('usr:Rajini:items', 'How to train your dragon', 'Avengers','Lion King','How I Met your Mother')\n",
    "\n",
    "## Riyaz likes \n",
    "r.sadd('usr:Riyaz:items', 'Bahubali', 'Rocco', 'Black Hole', 'Hitler','The Secret','Tiff')\n",
    "\n",
    "## Harsha likes \n",
    "r.sadd('usr:Harsha:items', 'Gravity', 'Traitor','Moon','Kill Command')\n",
    "\n",
    "\n",
    "## Shiva likes \n",
    "r.sadd('usr:Shiva:items', 'Hush', 'Dont breathe','Anabelle Comes Home','Ungli', 'Dear Zindagi')\n",
    "\n",
    "## Raja likes \n",
    "r.sadd('usr:Raja:items',  'Fear of 13', 'Tabloid', 'Holy Hell','Ladies Up', 'Vir Das')\n",
    "\n",
    "## 'Mano likes \n",
    "r.sadd('usr:Mano:items', 'Finding Nemo', 'Finding Dory','Ungli', 'Dear Zindagi','Friends','Avengers')\n",
    "\n",
    "## Salman likes \n",
    "r.sadd('usr:Salman:items',  'Fear of 13', 'Tabloid', 'Finding Nemo', 'Finding Dory')\n"
   ]
  },
  {
   "cell_type": "code",
   "execution_count": 44,
   "metadata": {},
   "outputs": [
    {
     "name": "stdout",
     "output_type": "stream",
     "text": [
      "Added to the Redis DB! We are good to go!\n"
     ]
    }
   ],
   "source": [
    "\n",
    "## The following is the reverse mapping per item\n",
    "r.sadd('itm:spiderman:users', 'Meera')\n",
    "r.sadd('itm:Avengers:users', 'Meera', 'Sruthi','Mano')\n",
    "r.sadd('item:Harry Potter:users', 'Sruthi')\n",
    "r.sadd('itm:Big Bang Theory:users', 'Meera')\n",
    "r.sadd('itm:Friends:users', 'Meera','Mano')\n",
    "r.sadd('item:To all the boys Ive loved before:users', 'Sruthi')\n",
    "\n",
    "r.sadd('itm:Finding Nemo:users', 'Salman','Mano')\n",
    "r.sadd('itm:Ungli:users', 'Shiva', 'Meera')\n",
    "r.sadd('item:Hush:users', 'Shiva','Meera')\n",
    "r.sadd('itm:Gravity:users', 'Harsha','Meera')\n",
    "r.sadd('itm:Lion King:users', 'Rajini')\n",
    "r.sadd('item::users', 'Sruthi','Kamal')\n",
    "print(\"Added to the Redis DB! We are good to go!\")"
   ]
  },
  {
   "cell_type": "markdown",
   "metadata": {},
   "source": [
    "# Collaborative Filtering\n"
   ]
  },
  {
   "cell_type": "code",
   "execution_count": 45,
   "metadata": {},
   "outputs": [],
   "source": [
    "#TO predict user preferences for movies by learning pastuser-item relationships from a group of user\n",
    "#who share the same preferences and taste"
   ]
  },
  {
   "cell_type": "markdown",
   "metadata": {},
   "source": [
    "## Using union and difference operations of Redis Sets"
   ]
  },
  {
   "cell_type": "code",
   "execution_count": 46,
   "metadata": {},
   "outputs": [
    {
     "name": "stdout",
     "output_type": "stream",
     "text": [
      "Users interested in the same items as Meera: {b'Meera'}\n",
      "Meera is interested in: {b'Spiderman', b'Ungli', b'Hush', b'Friends', b'Big Bang Theory', b'Gravity', b'Avengers'}\n"
     ]
    }
   ],
   "source": [
    "# Similar users to Meera\n",
    "items = r.smembers('usr:Meera:items')\n",
    "keys = []\n",
    "for item in items:\n",
    "    keys.append(\"itm:\" + item.decode('UTF-8').lower().replace(' ', '_') + \":users\")\n",
    "\n",
    "users = r.sunion(keys)\n",
    "print(\"Users interested in the same items as Meera: {0}\".format(users))\n",
    "\n",
    "                 \n",
    "# Recommendation for Meera based on Others interests\n",
    "print(\"Meera is interested in: {0}\".format(r.smembers('usr:Meera:items')))\n",
    "meera_key = 'usr:Meera:items'\n",
    "\n",
    "for usr in users:\n",
    "    usr_key = \"usr:\" + usr.decode('UTF-8') + \":items\"\n",
    "    if usr_key != meera_key:\n",
    "        print(\"Meera could be also interested in: {0}\".format(r.sdiff(usr_key, meera_key)))"
   ]
  },
  {
   "cell_type": "code",
   "execution_count": 47,
   "metadata": {},
   "outputs": [
    {
     "name": "stdout",
     "output_type": "stream",
     "text": [
      "Database cleaned.\n"
     ]
    }
   ],
   "source": [
    "r.flushall()\n",
    "print(\"Database cleaned.\")"
   ]
  },
  {
   "cell_type": "code",
   "execution_count": null,
   "metadata": {},
   "outputs": [],
   "source": []
  },
  {
   "cell_type": "code",
   "execution_count": 48,
   "metadata": {},
   "outputs": [
    {
     "name": "stdout",
     "output_type": "stream",
     "text": [
      "Helper functions defined successfully!\n"
     ]
    }
   ],
   "source": [
    "# For executing Redis Functions from the Front end , we define the following functions\n",
    "def zadd(key, score, item):\n",
    "    return r.execute_command('ZADD', key, score, item)\n",
    "\n",
    "def zinterstore(target, keys, weights, agg):\n",
    "    if not agg:\n",
    "        return r.execute_command('ZINTERSTORE', target, len(keys), *keys, 'WEIGHTS', *weights)\n",
    "    else:\n",
    "        return r.execute_command('ZINTERSTORE', target, len(keys), *keys, 'WEIGHTS', *weights, 'AGGREGATE', agg)\n",
    "\n",
    "def zunionstore(target, keys, weights, agg):\n",
    "    if not agg:\n",
    "        return r.execute_command('ZUNIONSTORE', target, len(keys), *keys, 'WEIGHTS', *weights)\n",
    "    else:\n",
    "        return r.execute_command('ZUNIONSTORE', target, len(keys), *keys, 'WEIGHTS', *weights, 'AGGREGATE', agg)    \n",
    "      \n",
    "print(\"Helper functions defined successfully!\")"
   ]
  },
  {
   "cell_type": "code",
   "execution_count": 49,
   "metadata": {},
   "outputs": [],
   "source": [
    "## Root Mean Square for similarity measure\n",
    "import math\n",
    "def rms(values):\n",
    "    sq_sum = 0\n",
    "    for v in values:\n",
    "        v = v[1]\n",
    "        v = v ** 2\n",
    "        sq_sum = sq_sum + v\n",
    "    sq_sum_avg = sq_sum / len(values)\n",
    "    return math.sqrt(sq_sum_avg)"
   ]
  },
  {
   "cell_type": "markdown",
   "metadata": {},
   "source": [
    "# Ratings based Collaborative Filtering\n",
    "## Based on \"How much does this user like this movie?\""
   ]
  },
  {
   "cell_type": "code",
   "execution_count": 50,
   "metadata": {},
   "outputs": [
    {
     "name": "stdout",
     "output_type": "stream",
     "text": [
      "Data added to Redis DB! Good to GO!\n"
     ]
    }
   ],
   "source": [
    "# Demo data\n",
    "\n",
    "## Ratings by user\n",
    "zadd('usr:Meera:ratings', 5.0, 'Friends')\n",
    "zadd('usr:Meera:ratings', 4.5, 'Big Bang Theory')\n",
    "zadd('usr:Meera:ratings', 4.5, 'Avengers')\n",
    "zadd('usr:Meera:ratings', 4.0, 'Ungli')\n",
    "\n",
    "zadd('usr:Sruthi:ratings', 4.0, 'To all the boys Ive loved before')\n",
    "zadd('usr:Sruthi:ratings', 3.0, 'Harry Potter')\n",
    "zadd('usr:Sruthi:ratings', 5.0, 'Avengers')\n",
    "zadd('usr:Sruthi:ratings', 4.0, 'Thor')\n",
    "zadd('usr:Sruthi:ratings', 4.0, 'Tootsie')\n",
    "\n",
    "zadd('usr:Anandhi:ratings', 4.0, 'A Star is Born')\n",
    "zadd('usr:Anandhi:ratings', 3.0, 'Hannah Montana')\n",
    "zadd('usr:Anandhi:ratings', 5.0, 'Land of Lords')\n",
    "zadd('usr:Anandhi:ratings', 4.0, 'Tootsie')\n",
    "\n",
    "zadd('usr:Mano:ratings', 4.0,'Finding Nemo')\n",
    "zadd('usr:Mano:ratings', 3.0, 'Finding Dory')\n",
    "zadd('usr:Mano:ratings', 5.0,'Dear Zindagi')\n",
    "zadd('usr:Mano:ratings', 4.0, 'Ungli')\n",
    "zadd('usr:Mano:ratings', 4.5, 'Avengers')\n",
    "zadd('usr:Mano:ratings', 5.0, 'Friends')\n",
    "\n",
    "\n",
    "\n",
    "print(\"Data added to Redis DB! Good to GO!\")"
   ]
  },
  {
   "cell_type": "code",
   "execution_count": 51,
   "metadata": {},
   "outputs": [
    {
     "data": {
      "text/plain": [
       "1"
      ]
     },
     "execution_count": 51,
     "metadata": {},
     "output_type": "execute_result"
    }
   ],
   "source": [
    "## Ratings by item\n",
    "zadd('itm:Friends:ratings', 5.0, 'Meera')\n",
    "zadd('itm:Big Bang Theory:ratings', 4.5, 'Meera')\n",
    "zadd('itm:Thor:ratings', 4.0, 'Sruthi')\n",
    "\n",
    "zadd('itm:Avengers:ratings', 5.0, 'Sruthi')\n",
    "zadd('itm:Harry Potter:ratings', 3.0, 'Sruthi')\n",
    "zadd('itm:Sherlock:ratings', 2.0, 'Sruthi')\n",
    "\n",
    "zadd('itm:Ungli:ratings', 4.0, 'Meera')\n",
    "zadd('itm:Ungli:ratings', 4.0, 'Mano')\n",
    "zadd('itm:Dear Zindagi:ratings', 4.5, 'Mano')\n",
    "zadd('itm:A Star is Born:ratings', 4.0, 'Anandhi')\n",
    "\n",
    "zadd('itm:Tootsie:ratings', 4.0, 'Sruthi')\n",
    "zadd('itm:Finding Dory:ratings', 3.0, 'Mano')\n",
    "zadd('itm:Finding Nemo:ratings', 4.0, 'Mano')"
   ]
  },
  {
   "cell_type": "code",
   "execution_count": 52,
   "metadata": {},
   "outputs": [
    {
     "name": "stdout",
     "output_type": "stream",
     "text": [
      "The following users rated Meera's items: [b'Mano', b'Sruthi', b'Meera']\n"
     ]
    }
   ],
   "source": [
    "meera_ratings = r.zrange('usr:Meera:ratings', 0, -1)\n",
    "keys = []\n",
    "\n",
    "for rt in meera_ratings:\n",
    "    key = \"itm:\" + rt.decode('UTF8') + \":ratings\"\n",
    "    keys.append(key)\n",
    "\n",
    "r.zunionstore('usr:Meera:ratings:same', keys)\n",
    "users = r.zrange('usr:Meera:ratings:same', 0, -1)\n",
    "\n",
    "print(\"The following users rated Meera's items: {}\".format(users))"
   ]
  },
  {
   "cell_type": "code",
   "execution_count": 55,
   "metadata": {},
   "outputs": [
    {
     "name": "stdout",
     "output_type": "stream",
     "text": [
      "The following is highly recommended for Meera based on similarities: [(b'Finding Dory', 3.0), (b'Finding Nemo', 4.0), (b'Dear Zindagi', 5.0)]\n",
      "The following is highly recommended for Meera based on similarities: [(b'Harry Potter', 3.0), (b'Thor', 4.0), (b'To all the boys Ive loved before', 4.0), (b'Tootsie', 4.0)]\n"
     ]
    }
   ],
   "source": [
    "#To Calculate similarities\n",
    "meera_r = 'usr:Meera:ratings'\n",
    "\n",
    "for usr in users:\n",
    "        usr = usr.decode('UTF-8')\n",
    "        usr_key = \"usr:\" + usr + ':ratings'\n",
    "        \n",
    "        if usr_key != meera_r:\n",
    "            usr_keys = [ meera_r, usr_key ]\n",
    "            # Weights are multiplying the scores\n",
    "            usr_weights = [1, -1]\n",
    "           \n",
    "            zinterstore(\"dist:Meera:\" + usr, usr_keys, usr_weights, \"\")\n",
    "            dists = r.zrange(\"dist:Meera:\" + usr, 0, -1, True, True)\n",
    "     #       print(\"The rating distance to {0} is {1}\".format(usr, dists))\n",
    "     #       print(\"The average distance (RMS) to {0} is {1}\".format(usr, rms(dists)))\n",
    "            \n",
    "            # If a user is similar to another user, we add movies of the other users \n",
    "            #to the recommendation list\n",
    "            if rms(dists) <= 1:\n",
    "                #print(r.zrangebyscore(usr_key,4,5))\n",
    "                \n",
    "                # Items those are rated by David will have a negative score\n",
    "                usr_filter = [-1, 1]\n",
    "                zunionstore(\"rec:Meera\", usr_keys, usr_filter, \"MIN\")\n",
    "                # Filter only items with a score between 4 and 5 out\n",
    "                print(\"The following is highly recommended for Meera based on similarities: {}\"\n",
    "                      .format(r.zrangebyscore('rec:Meera',3,5, withscores=True)))"
   ]
  }
 ],
 "metadata": {
  "kernelspec": {
   "display_name": "Python 3",
   "language": "python",
   "name": "python3"
  },
  "language_info": {
   "codemirror_mode": {
    "name": "ipython",
    "version": 3
   },
   "file_extension": ".py",
   "mimetype": "text/x-python",
   "name": "python",
   "nbconvert_exporter": "python",
   "pygments_lexer": "ipython3",
   "version": "3.7.6"
  }
 },
 "nbformat": 4,
 "nbformat_minor": 4
}
